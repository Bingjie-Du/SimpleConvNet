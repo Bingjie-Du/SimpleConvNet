{
 "cells": [
  {
   "cell_type": "markdown",
   "metadata": {},
   "source": [
    "# 简单的CNN实现。用mnist数据集训练"
   ]
  },
  {
   "cell_type": "markdown",
   "metadata": {},
   "source": [
    "## Package"
   ]
  },
  {
   "cell_type": "code",
   "execution_count": 859,
   "metadata": {},
   "outputs": [],
   "source": [
    "import sys ,os \n",
    "import numpy as np\n",
    "import matplotlib.pyplot as plt\n",
    "import tensorflow as tf  #只是用来加载mnist数据集\n",
    "from PIL import Image\n",
    "import pandas as pd \n",
    "import math"
   ]
  },
  {
   "cell_type": "markdown",
   "metadata": {},
   "source": [
    "## 加载MNIST数据集"
   ]
  },
  {
   "cell_type": "code",
   "execution_count": 860,
   "metadata": {},
   "outputs": [],
   "source": [
    "def one_hot_label(y):\n",
    "    one_hot_label = np.zeros((y.shape[0],10))\n",
    "    y = y.reshape(y.shape[0])\n",
    "    one_hot_label[range(y.shape[0]),y] = 1\n",
    "    return one_hot_label\n",
    "    \n",
    "    "
   ]
  },
  {
   "cell_type": "code",
   "execution_count": 863,
   "metadata": {},
   "outputs": [
    {
     "name": "stdout",
     "output_type": "stream",
     "text": [
      "shape of x_train is :(60000, 1, 28, 28)\n",
      "shape of t_train is :(60000, 10)\n",
      "shape of x_test is :(10000, 1, 28, 28)\n",
      "shape of t_test is :(10000, 10)\n"
     ]
    }
   ],
   "source": [
    "# #（训练图像，训练标签），（测试图像，测试标签）\n",
    "# # mnist的图像均为28*28尺寸的数据，通道为1\n",
    "(x_train_origin,t_train_origin),(x_test_origin,t_test_origin) = tf.keras.datasets.mnist.load_data()\n",
    "X_train = x_train_origin/255.0\n",
    "X_test = x_test_origin/255.0\n",
    "m,h,w = x_train_origin.shape\n",
    "X_train = X_train.reshape((m,1,h,w))\n",
    "y_train = one_hot_label(t_train_origin)\n",
    "\n",
    "m,h,w = x_test_origin.shape\n",
    "X_test = X_test.reshape((m,1,h,w))\n",
    "y_test = one_hot_label(t_test_origin)\n",
    "print(\"shape of x_train is :\"+repr(X_train.shape))\n",
    "print(\"shape of t_train is :\"+repr(y_train.shape))\n",
    "print(\"shape of x_test is :\"+repr(X_test.shape))\n",
    "print(\"shape of t_test is :\"+repr(y_test.shape))\n"
   ]
  },
  {
   "cell_type": "markdown",
   "metadata": {},
   "source": [
    "## 显示图像"
   ]
  },
  {
   "cell_type": "code",
   "execution_count": 864,
   "metadata": {},
   "outputs": [
    {
     "name": "stdout",
     "output_type": "stream",
     "text": [
      "y is:5\n"
     ]
    },
    {
     "data": {
      "image/png": "[encoded data removed]",
      "text/plain": [
       "<Figure size 432x288 with 1 Axes>"
      ]
     },
     "metadata": {
      "needs_background": "light"
     },
     "output_type": "display_data"
    }
   ],
   "source": [
    "index = 0\n",
    "plt.imshow(X_train[index].reshape((28,28)),cmap = plt.cm.gray)\n",
    "print(\"y is:\"+str(np.argmax(y_train[index])))"
   ]
  },
  {
   "cell_type": "markdown",
   "metadata": {},
   "source": [
    "## 辅助函数"
   ]
  },
  {
   "cell_type": "markdown",
   "metadata": {},
   "source": [
    "将根据滤波器的大小，步幅，填充，输入数据展开为2维数组。"
   ]
  },
  {
   "cell_type": "code",
   "execution_count": 865,
   "metadata": {},
   "outputs": [],
   "source": [
    "def im2col2(input_data,fh,fw,stride=1,pad=0):\n",
    "    '''\n",
    "     Arguments:\n",
    "     \n",
    "     input_data--输入数据，shape为(Number of example,Channel,Height,Width)\n",
    "     fh -- 滤波器的height\n",
    "     fw --滤波器的width\n",
    "     stride -- 步幅\n",
    "     pad -- 填充\n",
    "     \n",
    "     Returns :\n",
    "     col -- 输入数据根据滤波器、步幅等展开的二维数组，每一行代表一条卷积数据\n",
    "    '''\n",
    "    N,C,H,W = input_data.shape\n",
    "    \n",
    "    out_h = (H + 2*pad - fh)//stride+1\n",
    "    out_w = (W+2*pad-fw)//stride+1\n",
    "    \n",
    "    img = np.pad(input_data,[(0,0),(0,0),(pad,pad),(pad,pad)],\"constant\")\n",
    "    \n",
    "    col = np.zeros((N,out_h,out_w,fh*fw*C))\n",
    "    \n",
    "    #将所有维度上需要卷积的值展开成一列\n",
    "    for y in range(out_h):\n",
    "        y_start = y * stride\n",
    "        y_end =  y_start + fh\n",
    "        for x in range(out_w):\n",
    "            x_start = x*stride\n",
    "            x_end = x_start+fw\n",
    "            col[:,y,x] = img[:,:,y_start:y_end,x_start:x_end].reshape(N,-1)\n",
    "    col = col.reshape(N*out_h*out_w,-1)\n",
    "    return col\n",
    "\n",
    "    "
   ]
  },
  {
   "cell_type": "code",
   "execution_count": 866,
   "metadata": {},
   "outputs": [],
   "source": [
    "def col2im2(col,out_shape,fh,fw,stride=1,pad=0):\n",
    "    '''\n",
    "     Arguments:\n",
    "     col: 二维数组     \n",
    "     out_shape-- 输出的shape，shape为(Number of example,Channel,Height,Width)\n",
    "     fh -- 滤波器的height\n",
    "     fw --滤波器的width\n",
    "     stride -- 步幅\n",
    "     pad -- 填充\n",
    "     \n",
    "     Returns :\n",
    "     img -- 将col转换成的img ，shape为out_shape\n",
    "    '''\n",
    "    N,C,H,W = out_shape\n",
    "    \n",
    "    col_m,col_n = col.shape\n",
    "    \n",
    "    out_h = (H + 2*pad - fh)//stride+1\n",
    "    out_w = (W+2*pad-fw)//stride+1\n",
    "\n",
    "    \n",
    "\n",
    "    img = np.zeros((N, C, H , W))\n",
    "   # img = np.pad(img,[(0,0),(0,0),(pad,pad),(pad,pad)],\"constant\")\n",
    "\n",
    "    #将col转换成一个filter\n",
    "    for c in range(C):\n",
    "        for y in range(out_h):\n",
    "            for x in range(out_w):\n",
    "                col_index = (c*out_h*out_w)+y*out_w+x\n",
    "                ih = y*stride\n",
    "                iw =  x*stride\n",
    "                img[:,c,ih:ih+fh,iw:iw+fw] = col[col_index].reshape((fh,fw))\n",
    "    return img\n"
   ]
  },
  {
   "cell_type": "code",
   "execution_count": 868,
   "metadata": {},
   "outputs": [
    {
     "name": "stdout",
     "output_type": "stream",
     "text": [
      "[[[[0 2 1]\n",
      "   [2 0 2]\n",
      "   [1 3 0]]]]\n",
      "[[0. 2. 2. 0.]\n",
      " [2. 1. 0. 2.]\n",
      " [2. 0. 1. 3.]\n",
      " [0. 2. 3. 0.]]\n",
      "===\n"
     ]
    },
    {
     "data": {
      "text/plain": [
       "array([[[[0., 2., 1.],\n",
       "         [2., 0., 2.],\n",
       "         [1., 3., 0.]]]])"
      ]
     },
     "execution_count": 868,
     "metadata": {},
     "output_type": "execute_result"
    }
   ],
   "source": [
    "\n",
    "a = np.random.randint(0,5,size=(2,3,4,4))\n",
    "c = im2col2(a,2,2,2,1)\n",
    "\n",
    "a = np.random.randint(0,5,size=(1,1,3,3))\n",
    "print(a)\n",
    "c = im2col2(a,2,2,1,0)\n",
    "print(c)\n",
    "\n",
    "print('===')\n",
    "col2im2(c,out_shape=(1,1,3,3),fh=2,fw=2,stride=1)"
   ]
  },
  {
   "cell_type": "markdown",
   "metadata": {},
   "source": [
    "### 激活函数"
   ]
  },
  {
   "cell_type": "code",
   "execution_count": 869,
   "metadata": {},
   "outputs": [],
   "source": [
    "def relu(input_X):\n",
    "    \"\"\"\n",
    "    Arguments:\n",
    "        input_X -- a numpy array\n",
    "    Return :\n",
    "        A: a numpy array. let each elements in array all greater or equal 0\n",
    "    \"\"\"\n",
    "    \n",
    "    A = np.where(input_X < 0 ,0,input_X)\n",
    "    return A\n",
    "    "
   ]
  },
  {
   "cell_type": "code",
   "execution_count": 870,
   "metadata": {},
   "outputs": [],
   "source": [
    "def softmax(input_X):\n",
    "    \"\"\"\n",
    "    Arguments:\n",
    "        input_X -- a numpy array\n",
    "    Return :\n",
    "        A: a numpy array same shape with input_X\n",
    "    \"\"\"\n",
    "    exp_a = np.exp(input_X)\n",
    "    sum_exp_a = np.sum(exp_a,axis=1)\n",
    "    sum_exp_a = sum_exp_a.reshape(input_X.shape[0],-1)\n",
    "    ret = exp_a/sum_exp_a\n",
    "   # print(ret)\n",
    "    return ret"
   ]
  },
  {
   "cell_type": "markdown",
   "metadata": {},
   "source": [
    "### 损失函数"
   ]
  },
  {
   "cell_type": "code",
   "execution_count": 871,
   "metadata": {},
   "outputs": [],
   "source": [
    "def cross_entropy_error(labels,logits):\n",
    "    return -np.sum(labels*np.log(logits))\n"
   ]
  },
  {
   "cell_type": "code",
   "execution_count": 872,
   "metadata": {},
   "outputs": [
    {
     "data": {
      "text/plain": [
       "-1.6094379124341003"
      ]
     },
     "execution_count": 872,
     "metadata": {},
     "output_type": "execute_result"
    }
   ],
   "source": [
    "a = np.array([[1,0,0],[0,1,0]])\n",
    "a = a.T\n",
    "c = np.random.randint(1, 7,size = (3,2))\n",
    "cross_entropy_error(a,c)\n",
    "\n"
   ]
  },
  {
   "cell_type": "markdown",
   "metadata": {},
   "source": [
    "## 卷积层"
   ]
  },
  {
   "cell_type": "code",
   "execution_count": 911,
   "metadata": {},
   "outputs": [],
   "source": [
    "class Convolution:\n",
    "    def __init__(self,W,fb,stride = 1,pad = 0):\n",
    "        \"\"\"\n",
    "        W-- 滤波器权重，shape为(FN,NC,FH,FW),FN 为滤波器的个数\n",
    "        fb -- 滤波器的偏置，shape 为(1,FN) \n",
    "        stride -- 步长\n",
    "        pad -- 填充个数\n",
    "        \"\"\"\n",
    "        self.W = W\n",
    "        self.fb  = fb  \n",
    "        self.stride = stride\n",
    "        self.pad = pad\n",
    "        \n",
    "        \n",
    "        self.col_X = None\n",
    "        self.X = None\n",
    "        self.col_W = None\n",
    "        \n",
    "        self.dW = None\n",
    "        self.db = None\n",
    "        self.out_shape = None\n",
    "    #    self.out = None\n",
    "        \n",
    "    def forward (self ,input_X):\n",
    "        \"\"\"\n",
    "        input_X-- shape为(m,nc,height,width)\n",
    "        \"\"\"   \n",
    "        self.X = input_X\n",
    "        FN,NC,FH,FW = self.W.shape\n",
    "        \n",
    "        m,input_nc, input_h,input_w = self.X.shape\n",
    "    \n",
    "        #先计算输出的height和widt\n",
    "        out_h = int((input_h+2*self.pad-FH)/self.stride + 1)\n",
    "        out_w = int((input_w+2*self.pad-FW)/self.stride + 1)\n",
    "    \n",
    "        #将输入数据展开成二维数组，shape为（m*out_h*out_w,FH*FW*C)\n",
    "        self.col_X = col_X = im2col2(self.X,FH,FW,self.stride,self.pad)\n",
    "        \n",
    "        #将滤波器一个个按列展开(FH*FW*C,FN)\n",
    "        self.col_W = col_W = self.W.reshape(FN,-1).T\n",
    "        out = np.dot(col_X,col_W)+self.fb\n",
    "        out = out.T\n",
    "        out = out.reshape(m,FN,out_h,out_w)\n",
    "        self.out_shape = out.shape\n",
    "        return out\n",
    "    \n",
    "    def backward(self, dz,learning_rate):\n",
    "        #print(\"==== Conv backbward ==== \")\n",
    "        assert(dz.shape == self.out_shape)\n",
    "    \n",
    "        FN,NC,FH,FW = self.W.shape\n",
    "        o_FN,o_NC,o_FH,o_FW = self.out_shape\n",
    "        \n",
    "        col_dz  = dz.reshape(o_NC,-1)\n",
    "        col_dz = col_dz.T\n",
    "        \n",
    "        self.dW = np.dot(self.col_X.T,col_dz)  #shape is (FH*FW*C,FN)\n",
    "        self.db = np.sum(col_dz,axis=0,keepdims=True)\n",
    "\n",
    "        \n",
    "        self.dW = self.dW.T.reshape(self.W.shape)\n",
    "        self.db = self.db.reshape(self.fb.shape)\n",
    "        \n",
    "    \n",
    "        d_col_x = np.dot(col_dz,self.col_W.T) #shape is (m*out_h*out_w,FH,FW*C)\n",
    "        dx = col2im2(d_col_x,self.X.shape,FH,FW,stride=1)\n",
    "        \n",
    "        assert(dx.shape == self.X.shape)\n",
    "        \n",
    "        #更新W和b\n",
    "        self.W = self.W - learning_rate*self.dW\n",
    "        self.fb = self.fb -learning_rate*self.db\n",
    "        \n",
    "        return dx\n",
    "    \n",
    "    "
   ]
  },
  {
   "cell_type": "code",
   "execution_count": 912,
   "metadata": {},
   "outputs": [
    {
     "name": "stdout",
     "output_type": "stream",
     "text": [
      "(2, 1, 2, 2)\n",
      "(1, 2)\n",
      "(1, 1, 3, 3)\n",
      "[[[[ 6.  8.]\n",
      "   [12. 14.]]\n",
      "\n",
      "  [[ 1.  2.]\n",
      "   [ 4.  5.]]]]\n",
      "(1, 2, 2, 2)\n"
     ]
    }
   ],
   "source": [
    "#W = np.array([[[[1,0],[0,1]]]])\n",
    "#W = np.array([[[[1,0],[0,1]]],[[[1,0],[0,0]]],[[[0,0],[0,0]]]])\n",
    "W = np.array([[[[1,0],[0,1]]],[[[1,0],[0,0]]]])\n",
    "print(W.shape)\n",
    "b = np.zeros((1,2))\n",
    "print(b.shape)\n",
    "conv = Convolution(W,b,stride=1,pad=0)\n",
    "\n",
    "a = np.array([[[[1,2,3],[4,5,6],[7,8,9]]]])\n",
    "print(a.shape)\n",
    "out = conv.forward(a)\n",
    "print(out)\n",
    "print(out.shape)"
   ]
  },
  {
   "cell_type": "markdown",
   "metadata": {},
   "source": [
    "## 池化层"
   ]
  },
  {
   "cell_type": "code",
   "execution_count": 875,
   "metadata": {},
   "outputs": [],
   "source": [
    "class Pooling:\n",
    "    def __init__(self,pool_h,pool_w,stride = 1,pad = 0):\n",
    "        self.pool_h = pool_h\n",
    "        self.pool_w = pool_w\n",
    "        self.stride = stride\n",
    "        self.pad = pad \n",
    "        self.X = None\n",
    "        self.arg_max = None\n",
    "        \n",
    "    def forward ( self,input_X) :\n",
    "        \"\"\"\n",
    "        前向传播\n",
    "        input_X-- shape为(m,nc,height,width)\n",
    "        \"\"\"  \n",
    "        self.X = input_X\n",
    "        N , C, H, W = input_X.shape\n",
    "        out_h = int(1+(H-self.pool_h)/self.stride)\n",
    "        out_w = int(1+(W-self.pool_w)/self.stride)\n",
    "        \n",
    "        #展开\n",
    "        col = im2col2(input_X,self.pool_h,self.pool_w,self.stride,self.pad)\n",
    "        col = col.reshape(-1,self.pool_h*self.pool_w)\n",
    "        arg_max = np.argmax(col,axis=1)\n",
    "        #最大值\n",
    "        out = np.max(col,axis=1)\n",
    "        out =out.T.reshape(N,C,out_h,out_w)\n",
    "        self.arg_max = arg_max\n",
    "        return out\n",
    "    \n",
    "    def backward(self ,dz):\n",
    "        \"\"\"\n",
    "        反向传播\n",
    "        Arguments:\n",
    "        dz-- out的导数，shape与out 一致\n",
    "        \n",
    "        Return:\n",
    "        返回前向传播是的input_X的导数\n",
    "        \"\"\" \n",
    "        pool_size = self.pool_h*self.pool_w\n",
    "        dmax = np.zeros((dz.size,pool_size))\n",
    "        dmax[np.arange(self.arg_max.size),self.arg_max.flatten()] = dz.flatten()\n",
    "        \n",
    "        dx = col2im2(dmax,out_shape=self.X.shape,fh=self.pool_h,fw=self.pool_w,stride=self.stride)\n",
    "        return dx\n",
    "    \n",
    "    "
   ]
  },
  {
   "cell_type": "code",
   "execution_count": 876,
   "metadata": {},
   "outputs": [
    {
     "name": "stdout",
     "output_type": "stream",
     "text": [
      "[[[[5. 6.]\n",
      "   [8. 9.]]]]\n"
     ]
    }
   ],
   "source": [
    "pool = Pooling(2,2,1,0)\n",
    "a = np.array([[[[1,2,3],[4,5,6],[7,8,9]]]])\n",
    "out = pool.forward(a)\n",
    "print(out)\n",
    "# print(a.size)\n",
    "# a = np.array([[[[1,2,3],[4,5,6],[7,8,9]]]])\n",
    "# print(a.size)\n",
    "# a.flatten()\n"
   ]
  },
  {
   "cell_type": "markdown",
   "metadata": {},
   "source": [
    "## Relu层"
   ]
  },
  {
   "cell_type": "code",
   "execution_count": 877,
   "metadata": {},
   "outputs": [],
   "source": [
    "class Relu:\n",
    "    def __init__(self):\n",
    "        self.mask = None\n",
    "        \n",
    "    def forward(self ,X):\n",
    "        self.mask = X <= 0\n",
    "        out = X\n",
    "        out[self.mask] = 0\n",
    "        return out\n",
    "    \n",
    "    def backward(self,dz):\n",
    "        dz[self.mask] = 0\n",
    "        dx = dz \n",
    "        return dx"
   ]
  },
  {
   "cell_type": "code",
   "execution_count": 878,
   "metadata": {},
   "outputs": [
    {
     "name": "stdout",
     "output_type": "stream",
     "text": [
      "[[False False]\n",
      " [ True False]]\n"
     ]
    },
    {
     "data": {
      "text/plain": [
       "array([[1, 1],\n",
       "       [2, 1]])"
      ]
     },
     "execution_count": 878,
     "metadata": {},
     "output_type": "execute_result"
    }
   ],
   "source": [
    "arr = np.array([[1,2],[3,-0.4]])\n",
    "mask = arr == np.max(arr)\n",
    "print(mask)\n",
    "\n",
    "barr = np.array([[1,1],[1,1]])\n",
    "barr+mask\n"
   ]
  },
  {
   "cell_type": "markdown",
   "metadata": {},
   "source": [
    "## SoftMax层"
   ]
  },
  {
   "cell_type": "code",
   "execution_count": 879,
   "metadata": {},
   "outputs": [],
   "source": [
    "class SoftMax:\n",
    "    def __init__ (self):\n",
    "        self.y_hat = None\n",
    "        \n",
    "    def forward(self,X):\n",
    "        \n",
    "        self.y_hat = softmax(X)\n",
    "        return self.y_hat\n",
    "    \n",
    "    def backward(self,labels):\n",
    "        m = labels.shape[0]\n",
    "        dx = (self.y_hat - labels)\n",
    "        \n",
    "        return dx\n",
    "    "
   ]
  },
  {
   "cell_type": "code",
   "execution_count": 880,
   "metadata": {},
   "outputs": [],
   "source": [
    "def compute_cost(logits,label):\n",
    "    return cross_entropy_error(label,logits)"
   ]
  },
  {
   "cell_type": "markdown",
   "metadata": {},
   "source": [
    "## Affine FC层"
   ]
  },
  {
   "cell_type": "code",
   "execution_count": 913,
   "metadata": {},
   "outputs": [],
   "source": [
    "class Affine:\n",
    "    def __init__(self,W,b):\n",
    "        self.W = W # shape is (n_x,n_unit)\n",
    "        self.b  = b  # shape is(1,n_unit)\n",
    "        self.X = None\n",
    "        self.origin_x_shape = None\n",
    "        \n",
    "        self.dW = None\n",
    "        self.db = None\n",
    "        \n",
    "        self.out_shape =None\n",
    "        \n",
    "    def forward(self,X):\n",
    "        self.origin_x_shape = X.shape \n",
    "        self.X = X.reshape(X.shape[0],-1)#(m,n)\n",
    "        out =  np.dot(self.X, self.W)+self.b\n",
    "        self.out_shape = out.shape\n",
    "        return out\n",
    "    \n",
    "    def backward(self,dz,learning_rate):\n",
    "        \"\"\"\n",
    "        dz-- 前面的导数\n",
    "        \"\"\"  \n",
    "#         print(\"Affine backward\")\n",
    "#         print(self.X.shape)\n",
    "#         print(dz.shape)\n",
    "#         print(self.W.shape)\n",
    "    \n",
    "        assert(dz.shape == self.out_shape)\n",
    "        \n",
    "        m = self.X.shape[0]\n",
    "        \n",
    "        self.dW = np.dot(self.X.T,dz)/m\n",
    "        self.db = np.sum(dz,axis=0,keepdims=True)/m\n",
    "        \n",
    "        assert(self.dW.shape == self.W.shape)\n",
    "        assert(self.db.shape == self.b.shape)\n",
    "        \n",
    "        dx = np.dot(dz,self.W.T)\n",
    "        assert(dx.shape == self.X.shape)\n",
    "        \n",
    "        dx = dx.reshape(self.origin_x_shape) # 保持与之前的x一样的shape\n",
    "        \n",
    "        #更新W和b\n",
    "        self.W = self.W-learning_rate*self.dW\n",
    "        self.b = self.b - learning_rate*self.db\n",
    "        \n",
    "        return dx\n",
    "        "
   ]
  },
  {
   "cell_type": "markdown",
   "metadata": {},
   "source": [
    "## 模型\n"
   ]
  },
  {
   "cell_type": "code",
   "execution_count": 964,
   "metadata": {
    "code_folding": []
   },
   "outputs": [],
   "source": [
    "class SimpleConvNet:\n",
    "\n",
    "    def __init__(self):\n",
    "        self.X = None\n",
    "        self.Y= None\n",
    "        self.layers = []\n",
    "\n",
    "    def add_conv_layer(self,n_filter,n_c , f, stride=1, pad=0):\n",
    "        \"\"\"\n",
    "        添加一层卷积层\n",
    "        Arguments:\n",
    "        n_c -- 输入数据通道数，也即卷积层的通道数\n",
    "        n_filter -- 滤波器的个数\n",
    "        f --滤波器的长/宽\n",
    "\n",
    "        Return :\n",
    "        Conv -- 卷积层\n",
    "        \"\"\"\n",
    "\n",
    "        # 初始化W，b\n",
    "        W = np.random.randn(n_filter, n_c, f, f)*0.01\n",
    "        fb = np.zeros((1, n_filter))\n",
    "        # 卷积层\n",
    "        Conv = Convolution(W, fb, stride=stride, pad=pad)\n",
    "        return Conv\n",
    "\n",
    "    def add_maxpool_layer(self, pool_shape, stride=1, pad=0):\n",
    "        \"\"\"\n",
    "        添加一层池化层\n",
    "        Arguments:\n",
    "        pool_shape -- 滤波器的shape\n",
    "        f -- 滤波器大小\n",
    "        Return :\n",
    "         Pool -- 初始化的Pool类\n",
    "        \"\"\"\n",
    "        pool_h, pool_w = pool_shape\n",
    "        pool = Pooling(pool_h, pool_w, stride=stride, pad=pad)\n",
    "        \n",
    "        return pool\n",
    "    \n",
    "    def add_affine(self,n_x, n_units):\n",
    "        \"\"\"\n",
    "        添加一层全连接层\n",
    "        Arguments:\n",
    "        n_x -- 输入个数\n",
    "        n_units -- 神经元个数\n",
    "        Return :\n",
    "        fc_layer -- Affine层对象\n",
    "        \"\"\"\n",
    "        \n",
    "        W= np.random.randn(n_x, n_units)*0.01\n",
    "        \n",
    "        b = np.zeros((1, n_units))\n",
    "        \n",
    "        fc_layer = Affine(W,b)\n",
    "        \n",
    "        return fc_layer\n",
    "    \n",
    "    def add_relu(self):\n",
    "        relu_layer =  Relu()\n",
    "        return relu_layer\n",
    "    \n",
    "    \n",
    "    def add_softmax(self):\n",
    "        softmax_layer = SoftMax()\n",
    "        return softmax_layer\n",
    "    \n",
    "    #计算卷积或池化后的H和W\n",
    "    def cacl_out_hw(self,HW,f,stride = 1,pad = 0):\n",
    "        return (HW+2*pad - f)/stride+1\n",
    "    \n",
    "\n",
    "    \n",
    "    \n",
    "    def init_model(self,train_X,n_classes):\n",
    "        \"\"\"\n",
    "        初始化一个卷积层网络\n",
    "        \"\"\"\n",
    "        N,C,H,W = train_X.shape\n",
    "        #卷积层\n",
    "        n_filter = 4\n",
    "        f = 7\n",
    "        \n",
    "        conv_layer = self.add_conv_layer(n_filter= n_filter,n_c=C,f=f,stride=1)\n",
    "        \n",
    "        out_h = self.cacl_out_hw(H,f)\n",
    "        out_w = self.cacl_out_hw(W,f)\n",
    "        out_ch = n_filter\n",
    "        \n",
    "        self.layers.append(conv_layer)\n",
    "        \n",
    "        #Relu\n",
    "        relu_layer = self.add_relu()\n",
    "        self.layers.append(relu_layer)\n",
    "        \n",
    "        #池化\n",
    "        f = 2\n",
    "        pool_layer = self.add_maxpool_layer(pool_shape=(f,f),stride=2)\n",
    "        out_h = self.cacl_out_hw(out_h,f,stride=2)\n",
    "        out_w = self.cacl_out_hw(out_w,f,stride=2)\n",
    "        #out_ch 不改变\n",
    "        self.layers.append(pool_layer)\n",
    "        \n",
    "\n",
    "        \n",
    "        \n",
    "        #Affine层\n",
    "        n_x = int(out_h*out_w*out_ch)\n",
    "        n_units = 32\n",
    "        fc_layer = self.add_affine(n_x=n_x,n_units=n_units)\n",
    "        self.layers.append(fc_layer)\n",
    "        \n",
    "        #Relu\n",
    "        relu_layer = self.add_relu()\n",
    "        self.layers.append(relu_layer)\n",
    "        \n",
    "        #Affine\n",
    "        fc_layer = self.add_affine(n_x=n_units,n_units=n_classes)\n",
    "        self.layers.append(fc_layer)\n",
    "        \n",
    "        #SoftMax\n",
    "        softmax_layer = self.add_softmax()\n",
    "        self.layers.append(softmax_layer)\n",
    "        \n",
    "        \n",
    "        \n",
    "    def forward_progation(self,train_X, print_out = False):\n",
    "        \"\"\"\n",
    "        前向传播\n",
    "        Arguments:\n",
    "        train_X -- 训练数据\n",
    "        f -- 滤波器大小\n",
    "\n",
    "        Return :\n",
    "         Z-- 前向传播的结果\n",
    "         loss -- 损失值\n",
    "        \"\"\"\n",
    "    \n",
    "        \n",
    "        N,C,H,W = train_X.shape\n",
    "        index = 0\n",
    "        # 卷积层\n",
    "        conv_layer = self.layers[index]\n",
    "        X = conv_layer.forward(train_X)\n",
    "        index =index+1\n",
    "        if print_out:\n",
    "            print(\"卷积之后：\"+str(X.shape))\n",
    "        # Relu\n",
    "        relu_layer =  self.layers[index]\n",
    "        index =index+1\n",
    "        X = relu_layer.forward(X)\n",
    "        if print_out:\n",
    "            print(\"Relu：\"+str(X.shape))\n",
    "            \n",
    "        \n",
    "        # 池化层\n",
    "        pool_layer = self.layers[index]\n",
    "        index =index+1\n",
    "        X = pool_layer.forward(X)\n",
    "        if print_out:\n",
    "            print(\"池化：\"+str(X.shape))\n",
    "\n",
    "\n",
    "        #Affine层\n",
    "        fc_layer = self.layers[index]\n",
    "        index =index+1\n",
    "        X = fc_layer.forward(X)\n",
    "        if print_out:\n",
    "            print(\"Affline 层的X：\"+str(X.shape))\n",
    "\n",
    "        #Relu\n",
    "        relu_layer = self.layers[index]\n",
    "        index =index+1\n",
    "        X = relu_layer.forward(X)\n",
    "        if print_out:\n",
    "            print(\"Relu 层的X：\"+str(X.shape))\n",
    "        \n",
    "        #Affine层\n",
    "        fc_layer = self.layers[index]\n",
    "        index =index+1\n",
    "        X = fc_layer.forward(X)\n",
    "        if print_out:\n",
    "            print(\"Affline 层的X：\"+str(X.shape))\n",
    "\n",
    "        #SoftMax层\n",
    "        sofmax_layer = self.layers[index]\n",
    "        index =index+1\n",
    "        A = sofmax_layer.forward(X)\n",
    "        if print_out:\n",
    "            print(\"Softmax 层的X：\"+str(A.shape))\n",
    "            \n",
    "        return A\n",
    "        \n",
    "    def back_progation(self,train_y,learning_rate):\n",
    "        \"\"\"\n",
    "        反向传播\n",
    "        Arguments:\n",
    "   \n",
    "        \"\"\"\n",
    "        index = len(self.layers)-1\n",
    "        sofmax_layer = self.layers[index]\n",
    "        index -= 1\n",
    "        dz = sofmax_layer.backward(train_y)\n",
    "        \n",
    "        fc_layer = self.layers[index]\n",
    "        dz = fc_layer.backward(dz,learning_rate=learning_rate)\n",
    "        index -= 1\n",
    "        \n",
    "        relu_layer = self.layers[index]\n",
    "        dz = relu_layer.backward(dz)\n",
    "        index -= 1\n",
    "        \n",
    "        fc_layer = self.layers[index]\n",
    "        dz = fc_layer.backward(dz,learning_rate=learning_rate)\n",
    "        index -= 1\n",
    "        \n",
    "        pool_layer = self.layers[index]\n",
    "        dz = pool_layer.backward(dz)\n",
    "        index -= 1\n",
    "        \n",
    "        relu_layer =  self.layers[index]\n",
    "        dz = relu_layer.backward(dz)\n",
    "        index -= 1\n",
    "        \n",
    "        conv_layer = self.layers[index]\n",
    "        conv_layer.backward(dz,learning_rate=learning_rate)\n",
    "        index -= 1\n",
    "        \n",
    "      \n",
    "    def get_minibatch(self,batch_data,minibatch_size,num):\n",
    "        m_examples = batch_data.shape[0]\n",
    "        minibatches = math.ceil( m_examples / minibatch_size)\n",
    " \n",
    "        if(num < minibatches):\n",
    "            return batch_data[num*minibatch_size:(num+1)*minibatch_size]\n",
    "        else:\n",
    "            return batch_data[num*minibatch_size:m_examples]\n",
    "    \n",
    "    \n",
    "    def optimize(self,train_X, train_y,minibatch_size,learning_rate=0.05,num_iters=500):\n",
    "        \"\"\"\n",
    "        优化方法\n",
    "        Arguments:\n",
    "        train_X -- 训练数据 \n",
    "        train_y -- 训练数据的标签\n",
    "        learning_rate -- 学习率\n",
    "        num_iters -- 迭代次数\n",
    "        minibatch_size \n",
    "        \"\"\"\n",
    "        m = train_X.shape[0]\n",
    "        num_batches  = math.ceil(m / minibatch_size)\n",
    "        \n",
    "        costs = []\n",
    "        for iteration in range(num_iters):\n",
    "            iter_cost = 0\n",
    "            for batch_num in range(num_batches):\n",
    "                minibatch_X = self.get_minibatch(train_X,minibatch_size,batch_num)\n",
    "                minibatch_y = self.get_minibatch(train_y,minibatch_size,batch_num)\n",
    "                \n",
    "                # 前向传播\n",
    "                A = self.forward_progation(minibatch_X,print_out=False)\n",
    "                #损失:\n",
    "                cost = compute_cost (A,minibatch_y)\n",
    "                #反向传播\n",
    "                self.back_progation(minibatch_y,learning_rate)\n",
    "                if(iteration%20 == 0):\n",
    "                    iter_cost += cost/num_batches\n",
    "                    \n",
    "            if(iteration%20 == 0):\n",
    "                print(\"After %d iters ,cost is :%g\" %(iteration,iter_cost))\n",
    "                costs.append(iter_cost)\n",
    "            \n",
    "            \n",
    "            \n",
    "            \n",
    "        #画出损失函数图\n",
    "        plt.plot(costs)\n",
    "        plt.xlabel(\"iterations/hundreds\")\n",
    "        plt.ylabel(\"costs\")\n",
    "        plt.show()\n",
    "        \n",
    "       \n",
    "    def predicate(self, train_X):\n",
    "        \"\"\"\n",
    "        预测\n",
    "        \"\"\"\n",
    "        logits = self.forward_progation(train_X)\n",
    "        one_hot = np.zeros_like(logits)\n",
    "        one_hot[range(train_X.shape[0]),np.argmax(logits,axis=1)] = 1\n",
    "        return one_hot   \n",
    "\n",
    "    def fit(self,train_X, train_y):\n",
    "        \"\"\"\n",
    "        训练\n",
    "        \"\"\"\n",
    "        self.X = train_X\n",
    "        self.Y = train_y\n",
    "        n_y = train_y.shape[1]\n",
    "        m = train_X.shape[0]\n",
    "        \n",
    "        #初始化模型\n",
    "        self.init_model(train_X,n_classes=n_y)\n",
    "\n",
    "        self.optimize(train_X, train_y,minibatch_size=1024,learning_rate=0.08,num_iters=500)\n",
    "        \n",
    "        logits = self.predicate(train_X)\n",
    "        \n",
    "        accuracy = np.sum(np.argmax(logits,axis=1) == np.argmax(train_y,axis=1))/m\n",
    "        print(\"训练集的准确率为：%g\" %(accuracy))\n",
    "\n",
    "\n",
    "        \n",
    "        \n",
    "        "
   ]
  },
  {
   "cell_type": "code",
   "execution_count": 965,
   "metadata": {},
   "outputs": [
    {
     "name": "stdout",
     "output_type": "stream",
     "text": [
      "After 0 iters ,cost is :230.258\n",
      "After 20 iters ,cost is :229.224\n",
      "After 40 iters ,cost is :228.492\n",
      "After 60 iters ,cost is :227.945\n",
      "After 80 iters ,cost is :227.538\n",
      "After 100 iters ,cost is :227.236\n",
      "After 120 iters ,cost is :227.006\n",
      "After 140 iters ,cost is :226.829\n",
      "After 160 iters ,cost is :226.689\n",
      "After 180 iters ,cost is :226.577\n",
      "After 200 iters ,cost is :226.476\n",
      "After 220 iters ,cost is :226.387\n",
      "After 240 iters ,cost is :226.313\n",
      "After 260 iters ,cost is :226.245\n",
      "After 280 iters ,cost is :226.202\n",
      "After 300 iters ,cost is :226.151\n",
      "After 320 iters ,cost is :226.092\n",
      "After 340 iters ,cost is :226.022\n",
      "After 360 iters ,cost is :225.954\n",
      "After 380 iters ,cost is :225.859\n",
      "After 400 iters ,cost is :225.758\n",
      "After 420 iters ,cost is :225.627\n",
      "After 440 iters ,cost is :225.546\n",
      "After 460 iters ,cost is :225.349\n",
      "After 480 iters ,cost is :225.117\n"
     ]
    },
    {
     "data": {
      "image/png": "[encoded data removed]",
      "text/plain": [
       "<Figure size 432x288 with 1 Axes>"
      ]
     },
     "metadata": {
      "needs_background": "light"
     },
     "output_type": "display_data"
    },
    {
     "name": "stdout",
     "output_type": "stream",
     "text": [
      "训练集的准确率为：0.14\n"
     ]
    }
   ],
   "source": [
    "convNet = SimpleConvNet()\n",
    "#拿10张先做实验\n",
    "train_X = X_train[0:100]\n",
    "train_y = y_train[0:100]\n",
    "# train_X = X_train\n",
    "# train_y = y_train\n",
    "\n",
    "convNet.fit(train_X,train_y)"
   ]
  },
  {
   "cell_type": "markdown",
   "metadata": {},
   "source": [
    "## 预测"
   ]
  },
  {
   "cell_type": "code",
   "execution_count": 920,
   "metadata": {},
   "outputs": [
    {
     "name": "stdout",
     "output_type": "stream",
     "text": [
      "测试的准确率为：0.0985\n"
     ]
    }
   ],
   "source": [
    "logits = convNet.predicate(X_test)\n",
    "m = X_test.shape[0]\n",
    "accuracy = np.sum(np.argmax(logits,axis=1) == np.argmax(y_test,axis=1))/m\n",
    "print(\"测试的准确率为：%g\" %(accuracy))"
   ]
  },
  {
   "cell_type": "code",
   "execution_count": 921,
   "metadata": {},
   "outputs": [
    {
     "name": "stdout",
     "output_type": "stream",
     "text": [
      "y is:7\n",
      "your predicate result is :1\n"
     ]
    },
    {
     "data": {
      "image/png": "[encoded data removed]",
      "text/plain": [
       "<Figure size 432x288 with 1 Axes>"
      ]
     },
     "metadata": {
      "needs_background": "light"
     },
     "output_type": "display_data"
    }
   ],
   "source": [
    "index = 0\n",
    "pred_y = convNet.predicate(X_test[index:index+1])\n",
    "plt.imshow(X_test[index].reshape((28,28)),cmap = plt.cm.gray)\n",
    "print(\"y is:\"+str(np.argmax(y_test[index])))\n",
    "print(\"your predicate result is :\"+str(np.argmax(pred_y)))"
   ]
  },
  {
   "cell_type": "code",
   "execution_count": null,
   "metadata": {},
   "outputs": [],
   "source": []
  },
  {
   "cell_type": "code",
   "execution_count": null,
   "metadata": {},
   "outputs": [],
   "source": []
  }
 ],
 "metadata": {
  "kernelspec": {
   "display_name": "Python 3",
   "language": "python",
   "name": "python3"
  },
  "language_info": {
   "codemirror_mode": {
    "name": "ipython",
    "version": 3
   },
   "file_extension": ".py",
   "mimetype": "text/x-python",
   "name": "python",
   "nbconvert_exporter": "python",
   "pygments_lexer": "ipython3",
   "version": "3.7.3"
  },
  "toc": {
   "base_numbering": 1,
   "nav_menu": {},
   "number_sections": true,
   "sideBar": false,
   "skip_h1_title": false,
   "title_cell": "Table of Contents",
   "title_sidebar": "Contents",
   "toc_cell": false,
   "toc_position": {
    "height": "681.3333129882812px",
    "left": "22px",
    "top": "112.33333587646484px",
    "width": "252.3333282470703px"
   },
   "toc_section_display": false,
   "toc_window_display": true
  },
  "varInspector": {
   "cols": {
    "lenName": 16,
    "lenType": 16,
    "lenVar": 40
   },
   "kernels_config": {
    "python": {
     "delete_cmd_postfix": "",
     "delete_cmd_prefix": "del ",
     "library": "var_list.py",
     "varRefreshCmd": "print(var_dic_list())"
    },
    "r": {
     "delete_cmd_postfix": ") ",
     "delete_cmd_prefix": "rm(",
     "library": "var_list.r",
     "varRefreshCmd": "cat(var_dic_list()) "
    }
   },
   "types_to_exclude": [
    "module",
    "function",
    "builtin_function_or_method",
    "instance",
    "_Feature"
   ],
   "window_display": false
  }
 },
 "nbformat": 4,
 "nbformat_minor": 2
}
